{
  "nbformat": 4,
  "nbformat_minor": 0,
  "metadata": {
    "colab": {
      "provenance": []
    },
    "kernelspec": {
      "display_name": "Python 3",
      "name": "python3"
    },
    "language_info": {
      "name": "python"
    }
  },
  "cells": [
    {
      "cell_type": "code",
      "metadata": {
        "id": "EKGOowMJCjNu"
      },
      "source": [
        "from google.colab import drive\n",
        "import os\n",
        "import numpy as np\n",
        "import pandas as pd\n",
        "import matplotlib.pyplot as plt\n",
        "import cv2\n",
        "import tensorflow as tf\n",
        "from tensorflow import keras\n",
        "from tensorflow.keras import layers\n",
        "from tensorflow.keras.models import Sequential"
      ],
      "execution_count": null,
      "outputs": []
    },
    {
      "cell_type": "code",
      "metadata": {
        "colab": {
          "base_uri": "https://localhost:8080/"
        },
        "id": "PYC_1IqADfdF",
        "outputId": "9485f75e-e234-4c04-d5b5-0d99cb6337de"
      },
      "source": [
        "from google.colab import drive\n",
        "drive.mount('/content/drive')"
      ],
      "execution_count": null,
      "outputs": [
        {
          "output_type": "stream",
          "name": "stdout",
          "text": [
            "Mounted at /content/drive\n"
          ]
        }
      ]
    },
    {
      "cell_type": "code",
      "metadata": {
        "colab": {
          "base_uri": "https://localhost:8080/"
        },
        "id": "XwKI4BMHEZ2x",
        "outputId": "90e6082f-ebd8-4722-c35c-5627e9727561"
      },
      "source": [
        "drive.mount('/content/drive')"
      ],
      "execution_count": null,
      "outputs": [
        {
          "output_type": "stream",
          "name": "stdout",
          "text": [
            "Drive already mounted at /content/drive; to attempt to forcibly remount, call drive.mount(\"/content/drive\", force_remount=True).\n"
          ]
        }
      ]
    },
    {
      "cell_type": "code",
      "metadata": {
        "id": "ThYlwIZeFf-J"
      },
      "source": [
        "path = '/content/drive/MyDrive/brain/brain_tumor_dataset'"
      ],
      "execution_count": null,
      "outputs": []
    },
    {
      "cell_type": "code",
      "metadata": {
        "id": "oR1To_DWe5Md"
      },
      "source": [
        "img_height = 128\n",
        "img_width = 128\n",
        "img_size = (img_height,img_width)\n",
        "n_augmented_images=12"
      ],
      "execution_count": null,
      "outputs": []
    },
    {
      "cell_type": "code",
      "metadata": {
        "id": "GnTNEOIIftHa"
      },
      "source": [
        "data_augmentation = tf.keras.Sequential([\n",
        "     layers.experimental.preprocessing.RandomFlip(\"horizontal_and_vertical\"),\n",
        "     layers.experimental.preprocessing.RandomRotation(0.2),\n",
        "     layers.experimental.preprocessing.RandomZoom(0.1)])"
      ],
      "execution_count": null,
      "outputs": []
    },
    {
      "cell_type": "code",
      "metadata": {
        "id": "_j6bydVSiZpz"
      },
      "source": [
        "def augment_image(image, n_augmented_images):\n",
        "  '''\n",
        "  Returns a list of augmented images for the given input image\n",
        "  Arguments:\n",
        "  image (array) - input image\n",
        "  number_of_images (int) - number of augmented images to return\n",
        "  Returns:\n",
        "  images (list) - list of augmented images\n",
        "  '''\n",
        "\n",
        "  image = tf.expand_dims(image, 0)\n",
        "  images = []\n",
        "\n",
        "  for i in range(n_augmented_images):\n",
        "    augmented_image = data_augmentation(image)\n",
        "    images.append(np.array(augmented_image[0]).flatten())\n",
        "\n",
        "  return images"
      ],
      "execution_count": null,
      "outputs": []
    },
    {
      "cell_type": "code",
      "metadata": {
        "id": "s7rjrDoaipi1"
      },
      "source": [
        "def preprocess_data(path, img_size, n_augmented_images):\n",
        "  '''\n",
        "  Reads in images classified into folders, resizes and scales them. Returns\n",
        "  those processed images as features and their associated labels as well.\n",
        "  Arguments:\n",
        "    path (str) - path to classified image folders\n",
        "    img_size (tuple) - tuple containing resized image height and width\n",
        "  Returns:\n",
        "    X (array) - features (brain scan images)\n",
        "    y (array) - feature labels (0 - no tumor, 1 - tumor)\n",
        "  '''\n",
        "\n",
        "  unsuccessful_files = {}\n",
        "\n",
        "  X = []\n",
        "  y = []\n",
        "\n",
        "  for folder_name in os.listdir(path):\n",
        "    if folder_name == 'no':\n",
        "      label = 0\n",
        "    else:\n",
        "      label = 1\n",
        "    folder_path = os.path.join(path, folder_name)\n",
        "\n",
        "    for fname in os.listdir(folder_path):\n",
        "      fpath = os.path.join(folder_path, fname)\n",
        "      try:\n",
        "        img = cv2.imread(fpath)\n",
        "        img = cv2.resize(img, img_size)\n",
        "        img = img / 255.0\n",
        "        X.append(img.flatten())\n",
        "        y.append(label)\n",
        "        X += augment_image(img, n_augmented_images)\n",
        "        y += [label] * n_augmented_images\n",
        "\n",
        "      except Exception as e:\n",
        "        unsuccessful_files[fname] = e\n",
        "\n",
        "  if unsuccessful_files:\n",
        "    print(f'Error processing the following files:\\n')\n",
        "    for index, key in enumerate(unsuccessful_files, 1):\n",
        "      print(f'{index}. {key} - {unsuccessful_files[key]}')\n",
        "  else:\n",
        "    print('Successfully processed all images.')\n",
        "\n",
        "  X = np.array(X)\n",
        "  y = np.array(y)\n",
        "\n",
        "  return X, y"
      ],
      "execution_count": null,
      "outputs": []
    },
    {
      "cell_type": "code",
      "metadata": {
        "colab": {
          "base_uri": "https://localhost:8080/"
        },
        "id": "p-7KUE0gjNEO",
        "outputId": "1c8b566b-3fb7-464c-a093-9a18732605cd"
      },
      "source": [
        "# obtain features and labels\n",
        "X, y = preprocess_data(path, img_size, n_augmented_images)"
      ],
      "execution_count": null,
      "outputs": [
        {
          "output_type": "stream",
          "name": "stdout",
          "text": [
            "Successfully processed all images.\n"
          ]
        }
      ]
    },
    {
      "cell_type": "code",
      "metadata": {
        "colab": {
          "base_uri": "https://localhost:8080/"
        },
        "id": "yAnJbFbhjcr4",
        "outputId": "4a63bed4-aad3-4c75-d129-a7a2777780c3"
      },
      "source": [
        "print(f'After augmentation, our dataset now has {len(X)} samples.')"
      ],
      "execution_count": null,
      "outputs": [
        {
          "output_type": "stream",
          "name": "stdout",
          "text": [
            "After augmentation, our dataset now has 3289 samples.\n"
          ]
        }
      ]
    },
    {
      "cell_type": "code",
      "metadata": {
        "id": "7rQCYFKN_lJD"
      },
      "source": [
        "from sklearn.model_selection import train_test_split\n",
        "\n",
        "X_train, X_test, y_train, y_test = train_test_split(X, y, test_size=0.25, random_state=42)"
      ],
      "execution_count": null,
      "outputs": []
    },
    {
      "cell_type": "code",
      "metadata": {
        "colab": {
          "base_uri": "https://localhost:8080/"
        },
        "id": "x1s3t8R4_n5N",
        "outputId": "d9fa3e88-35d9-4a96-ca81-1055a3f80049"
      },
      "source": [
        "from sklearn import svm\n",
        "\n",
        "# Create a classifier: a support vector classifier\n",
        "clf = svm.SVC(gamma=0.001)\n",
        "\n",
        "# Learn the digits on the train subset\n",
        "clf.fit(X_train, y_train)"
      ],
      "execution_count": null,
      "outputs": [
        {
          "output_type": "execute_result",
          "data": {
            "text/plain": [
              "SVC(gamma=0.001)"
            ]
          },
          "metadata": {},
          "execution_count": 12
        }
      ]
    },
    {
      "cell_type": "code",
      "metadata": {
        "id": "xC56bvdNB3O0"
      },
      "source": [
        "y_pred = clf.predict(X_test)"
      ],
      "execution_count": null,
      "outputs": []
    },
    {
      "cell_type": "code",
      "metadata": {
        "colab": {
          "base_uri": "https://localhost:8080/"
        },
        "id": "TaQkefx8Chwq",
        "outputId": "74f1ee2c-626b-4ddf-b9ce-ee78a5baf684"
      },
      "source": [
        "# classifiation report\n",
        "from sklearn.metrics import classification_report , confusion_matrix\n",
        "print(classification_report(y_test, y_pred))"
      ],
      "execution_count": null,
      "outputs": [
        {
          "output_type": "stream",
          "name": "stdout",
          "text": [
            "              precision    recall  f1-score   support\n",
            "\n",
            "           0       0.82      0.66      0.74       352\n",
            "           1       0.78      0.89      0.83       471\n",
            "\n",
            "    accuracy                           0.80       823\n",
            "   macro avg       0.80      0.78      0.78       823\n",
            "weighted avg       0.80      0.80      0.79       823\n",
            "\n"
          ]
        }
      ]
    },
    {
      "cell_type": "code",
      "metadata": {
        "colab": {
          "base_uri": "https://localhost:8080/",
          "height": 112
        },
        "id": "XmZs1DhSCslG",
        "outputId": "8b4867d4-6b61-4c59-e79a-0b3f6dce812f"
      },
      "source": [
        "# confusion matrix\n",
        "actual_labels = ['no_tumor', 'tumor']\n",
        "pred_labels = ['predicted_no_tumor', 'predicted_tumor']\n",
        "matrix = confusion_matrix(y_test, y_pred)\n",
        "matrix_df = pd.DataFrame(matrix, index=actual_labels, columns=pred_labels)\n",
        "matrix_df"
      ],
      "execution_count": null,
      "outputs": [
        {
          "output_type": "execute_result",
          "data": {
            "text/plain": [
              "          predicted_no_tumor  predicted_tumor\n",
              "no_tumor                 234              118\n",
              "tumor                     50              421"
            ],
            "text/html": [
              "\n",
              "  <div id=\"df-5b5ada11-0204-44da-827e-2a13d76846af\">\n",
              "    <div class=\"colab-df-container\">\n",
              "      <div>\n",
              "<style scoped>\n",
              "    .dataframe tbody tr th:only-of-type {\n",
              "        vertical-align: middle;\n",
              "    }\n",
              "\n",
              "    .dataframe tbody tr th {\n",
              "        vertical-align: top;\n",
              "    }\n",
              "\n",
              "    .dataframe thead th {\n",
              "        text-align: right;\n",
              "    }\n",
              "</style>\n",
              "<table border=\"1\" class=\"dataframe\">\n",
              "  <thead>\n",
              "    <tr style=\"text-align: right;\">\n",
              "      <th></th>\n",
              "      <th>predicted_no_tumor</th>\n",
              "      <th>predicted_tumor</th>\n",
              "    </tr>\n",
              "  </thead>\n",
              "  <tbody>\n",
              "    <tr>\n",
              "      <th>no_tumor</th>\n",
              "      <td>234</td>\n",
              "      <td>118</td>\n",
              "    </tr>\n",
              "    <tr>\n",
              "      <th>tumor</th>\n",
              "      <td>50</td>\n",
              "      <td>421</td>\n",
              "    </tr>\n",
              "  </tbody>\n",
              "</table>\n",
              "</div>\n",
              "      <button class=\"colab-df-convert\" onclick=\"convertToInteractive('df-5b5ada11-0204-44da-827e-2a13d76846af')\"\n",
              "              title=\"Convert this dataframe to an interactive table.\"\n",
              "              style=\"display:none;\">\n",
              "        \n",
              "  <svg xmlns=\"http://www.w3.org/2000/svg\" height=\"24px\"viewBox=\"0 0 24 24\"\n",
              "       width=\"24px\">\n",
              "    <path d=\"M0 0h24v24H0V0z\" fill=\"none\"/>\n",
              "    <path d=\"M18.56 5.44l.94 2.06.94-2.06 2.06-.94-2.06-.94-.94-2.06-.94 2.06-2.06.94zm-11 1L8.5 8.5l.94-2.06 2.06-.94-2.06-.94L8.5 2.5l-.94 2.06-2.06.94zm10 10l.94 2.06.94-2.06 2.06-.94-2.06-.94-.94-2.06-.94 2.06-2.06.94z\"/><path d=\"M17.41 7.96l-1.37-1.37c-.4-.4-.92-.59-1.43-.59-.52 0-1.04.2-1.43.59L10.3 9.45l-7.72 7.72c-.78.78-.78 2.05 0 2.83L4 21.41c.39.39.9.59 1.41.59.51 0 1.02-.2 1.41-.59l7.78-7.78 2.81-2.81c.8-.78.8-2.07 0-2.86zM5.41 20L4 18.59l7.72-7.72 1.47 1.35L5.41 20z\"/>\n",
              "  </svg>\n",
              "      </button>\n",
              "      \n",
              "  <style>\n",
              "    .colab-df-container {\n",
              "      display:flex;\n",
              "      flex-wrap:wrap;\n",
              "      gap: 12px;\n",
              "    }\n",
              "\n",
              "    .colab-df-convert {\n",
              "      background-color: #E8F0FE;\n",
              "      border: none;\n",
              "      border-radius: 50%;\n",
              "      cursor: pointer;\n",
              "      display: none;\n",
              "      fill: #1967D2;\n",
              "      height: 32px;\n",
              "      padding: 0 0 0 0;\n",
              "      width: 32px;\n",
              "    }\n",
              "\n",
              "    .colab-df-convert:hover {\n",
              "      background-color: #E2EBFA;\n",
              "      box-shadow: 0px 1px 2px rgba(60, 64, 67, 0.3), 0px 1px 3px 1px rgba(60, 64, 67, 0.15);\n",
              "      fill: #174EA6;\n",
              "    }\n",
              "\n",
              "    [theme=dark] .colab-df-convert {\n",
              "      background-color: #3B4455;\n",
              "      fill: #D2E3FC;\n",
              "    }\n",
              "\n",
              "    [theme=dark] .colab-df-convert:hover {\n",
              "      background-color: #434B5C;\n",
              "      box-shadow: 0px 1px 3px 1px rgba(0, 0, 0, 0.15);\n",
              "      filter: drop-shadow(0px 1px 2px rgba(0, 0, 0, 0.3));\n",
              "      fill: #FFFFFF;\n",
              "    }\n",
              "  </style>\n",
              "\n",
              "      <script>\n",
              "        const buttonEl =\n",
              "          document.querySelector('#df-5b5ada11-0204-44da-827e-2a13d76846af button.colab-df-convert');\n",
              "        buttonEl.style.display =\n",
              "          google.colab.kernel.accessAllowed ? 'block' : 'none';\n",
              "\n",
              "        async function convertToInteractive(key) {\n",
              "          const element = document.querySelector('#df-5b5ada11-0204-44da-827e-2a13d76846af');\n",
              "          const dataTable =\n",
              "            await google.colab.kernel.invokeFunction('convertToInteractive',\n",
              "                                                     [key], {});\n",
              "          if (!dataTable) return;\n",
              "\n",
              "          const docLinkHtml = 'Like what you see? Visit the ' +\n",
              "            '<a target=\"_blank\" href=https://colab.research.google.com/notebooks/data_table.ipynb>data table notebook</a>'\n",
              "            + ' to learn more about interactive tables.';\n",
              "          element.innerHTML = '';\n",
              "          dataTable['output_type'] = 'display_data';\n",
              "          await google.colab.output.renderOutput(dataTable, element);\n",
              "          const docLink = document.createElement('div');\n",
              "          docLink.innerHTML = docLinkHtml;\n",
              "          element.appendChild(docLink);\n",
              "        }\n",
              "      </script>\n",
              "    </div>\n",
              "  </div>\n",
              "  "
            ]
          },
          "metadata": {},
          "execution_count": 15
        }
      ]
    },
    {
      "cell_type": "code",
      "source": [],
      "metadata": {
        "id": "PLrFAJp9L61G"
      },
      "execution_count": null,
      "outputs": []
    }
  ]
}